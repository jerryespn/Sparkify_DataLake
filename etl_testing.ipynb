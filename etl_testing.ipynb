{
 "cells": [
  {
   "cell_type": "markdown",
   "metadata": {
    "editable": true
   },
   "source": [
    "# Sparkify DataLakes AWS and Spark Project\n",
    "This notebook is meant to testing purposes\n",
    "**by jerryespn**\n",
    "-April 2020-"
   ]
  },
  {
   "cell_type": "markdown",
   "metadata": {
    "editable": true
   },
   "source": [
    "### Library import"
   ]
  },
  {
   "cell_type": "code",
   "execution_count": 1,
   "metadata": {
    "editable": true
   },
   "outputs": [],
   "source": [
    "import configparser\n",
    "from datetime import datetime\n",
    "import os\n",
    "from pyspark.sql import SparkSession\n",
    "from pyspark.sql.functions import udf, col\n",
    "from pyspark.sql.functions import year, month, dayofmonth, hour, weekofyear, date_format"
   ]
  },
  {
   "cell_type": "markdown",
   "metadata": {
    "editable": true
   },
   "source": [
    "### Configuration File for AWS"
   ]
  },
  {
   "cell_type": "code",
   "execution_count": 2,
   "metadata": {
    "editable": true
   },
   "outputs": [
    {
     "data": {
      "text/plain": [
       "['conf/dl.cfg']"
      ]
     },
     "execution_count": 2,
     "metadata": {},
     "output_type": "execute_result"
    }
   ],
   "source": [
    "config = configparser.ConfigParser()\n",
    "config.read('conf/dl.cfg')"
   ]
  },
  {
   "cell_type": "markdown",
   "metadata": {
    "editable": true
   },
   "source": [
    "### AWS access keys taken from configuration file"
   ]
  },
  {
   "cell_type": "code",
   "execution_count": 3,
   "metadata": {
    "editable": true
   },
   "outputs": [],
   "source": [
    "os.environ['AWS_ACCESS_KEY_ID']=config['AWS']['AWS_ACCESS_KEY_ID']\n",
    "os.environ['AWS_SECRET_ACCESS_KEY']=config['AWS']['AWS_SECRET_ACCESS_KEY']"
   ]
  },
  {
   "cell_type": "markdown",
   "metadata": {
    "editable": true
   },
   "source": [
    "### SparkContext Initialize"
   ]
  },
  {
   "cell_type": "code",
   "execution_count": 4,
   "metadata": {
    "editable": true
   },
   "outputs": [],
   "source": [
    "def create_spark_session():\n",
    "    '''\n",
    "    Initialize the SparkSession for the application, includes AWS package to use it\n",
    "    '''\n",
    "    spark = SparkSession \\\n",
    "        .builder \\\n",
    "        .config(\"spark.jars.packages\", \"org.apache.hadoop:hadoop-aws:2.7.0\") \\\n",
    "        .getOrCreate()\n",
    "    return spark\n",
    "spark = create_spark_session()"
   ]
  },
  {
   "cell_type": "markdown",
   "metadata": {
    "editable": true
   },
   "source": [
    "### Work Paths Initialization"
   ]
  },
  {
   "cell_type": "code",
   "execution_count": 5,
   "metadata": {
    "editable": true
   },
   "outputs": [],
   "source": [
    "# Song Data files\n",
    "# Uncomment below line for AWS S3\n",
    "#song_data = \"s3a://udacity-dend/song_data/*/*/*\"\n",
    "# Uncomment below line for local files\n",
    "song_data = \"data/song_data/*/*/*\"\n",
    "\n",
    "# Log Data Files\n",
    "# Uncomment below line for AWS S3\n",
    "#log_data = \"s3a://udacity-dend/log_data/*\"\n",
    "# Uncomment below line for local files\n",
    "log_data = \"data/log_data/*\"\n",
    "\n",
    "# Warehouse\n",
    "# Root WH\n",
    "# Uncomment below line for AWS S3\n",
    "#output_data = \"s3a://jerryespn-project-out\"\n",
    "# Uncomment below line for local files\n",
    "output_data = \"spark-warehouse\"\n",
    "\n",
    "# Song WH\n",
    "# Uncomment below line for AWS S3\n",
    "#soutput_data = \"s3a://jerryespn-project-out/song\"\n",
    "# Uncomment below line for local files\n",
    "soutput_data = \"spark-warehouse/song\"\n",
    "\n",
    "# Log WH\n",
    "# Uncomment below line for AWS S3\n",
    "#loutput_data = \"s3a://jerryespn-project-out/log\"\n",
    "# Uncomment below line for local files\n",
    "loutput_data = \"spark-warehouse/log\"\n"
   ]
  },
  {
   "cell_type": "markdown",
   "metadata": {
    "editable": true
   },
   "source": [
    "### Process Song"
   ]
  },
  {
   "cell_type": "markdown",
   "metadata": {
    "editable": true
   },
   "source": [
    "###### TESTING THE QUERIES #####"
   ]
  },
  {
   "cell_type": "code",
   "execution_count": 6,
   "metadata": {
    "editable": true
   },
   "outputs": [],
   "source": [
    "df = spark.read.json(song_data)"
   ]
  },
  {
   "cell_type": "code",
   "execution_count": 7,
   "metadata": {
    "editable": true
   },
   "outputs": [
    {
     "data": {
      "text/plain": [
       "[Row(artist_id='ARDR4AC1187FB371A1', artist_latitude=None, artist_location='', artist_longitude=None, artist_name='Montserrat Caballé;Placido Domingo;Vicente Sardinero;Judith Blegen;Sherrill Milnes;Georg Solti', duration=511.16363, num_songs=1, song_id='SOBAYLL12A8C138AF9', title='Sono andati? Fingevo di dormire', year=0),\n",
       " Row(artist_id='AREBBGV1187FB523D2', artist_latitude=None, artist_location='Houston, TX', artist_longitude=None, artist_name=\"Mike Jones (Featuring CJ_ Mello & Lil' Bran)\", duration=173.66159, num_songs=1, song_id='SOOLYAZ12A6701F4A6', title='Laws Patrolling (Album Version)', year=0),\n",
       " Row(artist_id='ARMAC4T1187FB3FA4C', artist_latitude=40.82624, artist_location='Morris Plains, NJ', artist_longitude=-74.47995, artist_name='The Dillinger Escape Plan', duration=207.77751, num_songs=1, song_id='SOBBUGU12A8C13E95D', title='Setting Fire to Sleeping Giants', year=2004),\n",
       " Row(artist_id='ARPBNLO1187FB3D52F', artist_latitude=40.71455, artist_location='New York, NY', artist_longitude=-74.00712, artist_name='Tiny Tim', duration=43.36281, num_songs=1, song_id='SOAOIBZ12AB01815BE', title='I Hold Your Hand In Mine [Live At Royal Albert Hall]', year=2000),\n",
       " Row(artist_id='ARNF6401187FB57032', artist_latitude=40.79086, artist_location='New York, NY [Manhattan]', artist_longitude=-73.96644, artist_name='Sophie B. Hawkins', duration=305.162, num_songs=1, song_id='SONWXQJ12A8C134D94', title='The Ballad Of Sleeping Beauty', year=1994),\n",
       " Row(artist_id='ARDNS031187B9924F0', artist_latitude=32.67828, artist_location='Georgia', artist_longitude=-83.22295, artist_name='Tim Wilson', duration=186.48771, num_songs=1, song_id='SONYPOM12A8C13B2D7', title='I Think My Wife Is Running Around On Me (Taco Hell)', year=2005),\n",
       " Row(artist_id='ARLTWXK1187FB5A3F8', artist_latitude=32.74863, artist_location='Fort Worth, TX', artist_longitude=-97.32925, artist_name='King Curtis', duration=326.00771, num_songs=1, song_id='SODREIN12A58A7F2E5', title='A Whiter Shade Of Pale (Live @ Fillmore West)', year=0),\n",
       " Row(artist_id='ARPFHN61187FB575F6', artist_latitude=41.88415, artist_location='Chicago, IL', artist_longitude=-87.63241, artist_name='Lupe Fiasco', duration=279.97995, num_songs=1, song_id='SOWQTQZ12A58A7B63E', title='Streets On Fire (Explicit Album Version)', year=0),\n",
       " Row(artist_id='ARI2JSK1187FB496EF', artist_latitude=51.50632, artist_location='London, England', artist_longitude=-0.12714, artist_name='Nick Ingman;Gavyn Wright', duration=111.62077, num_songs=1, song_id='SODUJBS12A8C132150', title='Wessex Loses a Bride', year=0),\n",
       " Row(artist_id='AR9AWNF1187B9AB0B4', artist_latitude=None, artist_location='Seattle, Washington USA', artist_longitude=None, artist_name='Kenny G featuring Daryl Hall', duration=236.93016, num_songs=1, song_id='SOZHPGD12A8C1394FE', title='Baby Come To Me', year=0)]"
      ]
     },
     "execution_count": 7,
     "metadata": {},
     "output_type": "execute_result"
    }
   ],
   "source": [
    "df.take(10)"
   ]
  },
  {
   "cell_type": "code",
   "execution_count": 8,
   "metadata": {
    "editable": true
   },
   "outputs": [],
   "source": [
    "df.createOrReplaceTempView(\"songs\")"
   ]
  },
  {
   "cell_type": "code",
   "execution_count": 9,
   "metadata": {
    "editable": true
   },
   "outputs": [],
   "source": [
    "song_table = spark.sql (\"SELECT DISTINCT song_id, title as song_title, artist_id, year, duration FROM songs\")"
   ]
  },
  {
   "cell_type": "code",
   "execution_count": 10,
   "metadata": {
    "editable": true
   },
   "outputs": [
    {
     "data": {
      "text/plain": [
       "[Row(song_id='SOGNCJP12A58A80271', song_title='Do You Finally Need A Friend', artist_id='ARB29H41187B98F0EF', year=1972, duration=342.56934),\n",
       " Row(song_id='SOOJPRH12A8C141995', song_title='Loaded Like A Gun', artist_id='ARBGXIG122988F409D', year=0, duration=173.19138),\n",
       " Row(song_id='SOFCHDR12AB01866EF', song_title='Living Hell', artist_id='AREVWGE1187B9B890A', year=0, duration=282.43546),\n",
       " Row(song_id='SOWTBJW12AC468AC6E', song_title='Broken-Down Merry-Go-Round', artist_id='ARQGYP71187FB44566', year=0, duration=151.84934),\n",
       " Row(song_id='SOGOSOV12AF72A285E', song_title='¿Dónde va Chichi?', artist_id='ARGUVEV1187B98BA17', year=1997, duration=313.12934),\n",
       " Row(song_id='SOTUKVB12AB0181477', song_title='Blessed Assurance', artist_id='AR7ZKHQ1187B98DD73', year=1993, duration=270.602),\n",
       " Row(song_id='SOMVWWT12A58A7AE05', song_title='Knocked Out Of The Park', artist_id='ARQ9BO41187FB5CF1F', year=0, duration=183.17016),\n",
       " Row(song_id='SOBEBDG12A58A76D60', song_title='Kassie Jones', artist_id='ARI3BMM1187FB4255E', year=0, duration=220.78649),\n",
       " Row(song_id='SOILPQQ12AB017E82A', song_title='Sohna Nee Sohna Data', artist_id='AR1ZHYZ1187FB3C717', year=0, duration=599.24853),\n",
       " Row(song_id='SOYMRWW12A6D4FAB14', song_title='The Moon And I (Ordinary Day Album Version)', artist_id='ARKFYS91187B98E58F', year=0, duration=267.7024)]"
      ]
     },
     "execution_count": 10,
     "metadata": {},
     "output_type": "execute_result"
    }
   ],
   "source": [
    "song_table.take(10)"
   ]
  },
  {
   "cell_type": "code",
   "execution_count": 11,
   "metadata": {
    "editable": true
   },
   "outputs": [],
   "source": [
    "song_table.write.partitionBy(\"year\", \"artist_id\").parquet(path = soutput_data + \"/song/songs.parquet\", mode = \"overwrite\")"
   ]
  },
  {
   "cell_type": "code",
   "execution_count": 12,
   "metadata": {
    "editable": true
   },
   "outputs": [],
   "source": [
    "artist_table = spark.sql (\"SELECT DISTINCT artist_id, artist_name, artist_location, artist_latitude, artist_longitude FROM songs\")"
   ]
  },
  {
   "cell_type": "code",
   "execution_count": 13,
   "metadata": {
    "editable": true
   },
   "outputs": [
    {
     "data": {
      "text/plain": [
       "[Row(artist_id='ARPBNLO1187FB3D52F', artist_name='Tiny Tim', artist_location='New York, NY', artist_latitude=40.71455, artist_longitude=-74.00712),\n",
       " Row(artist_id='ARBEBBY1187B9B43DB', artist_name='Tom Petty', artist_location='Gainesville, FL', artist_latitude=None, artist_longitude=None),\n",
       " Row(artist_id='AR0IAWL1187B9A96D0', artist_name='Danilo Perez', artist_location='Panama', artist_latitude=8.4177, artist_longitude=-80.11278),\n",
       " Row(artist_id='ARMBR4Y1187B9990EB', artist_name='David Martin', artist_location='California - SF', artist_latitude=37.77916, artist_longitude=-122.42005),\n",
       " Row(artist_id='ARD0S291187B9B7BF5', artist_name='Rated R', artist_location='Ohio', artist_latitude=None, artist_longitude=None),\n",
       " Row(artist_id='AR0RCMP1187FB3F427', artist_name='Billie Jo Spears', artist_location='Beaumont, TX', artist_latitude=30.08615, artist_longitude=-94.10158),\n",
       " Row(artist_id='ARKRRTF1187B9984DA', artist_name='Sonora Santanera', artist_location='', artist_latitude=None, artist_longitude=None),\n",
       " Row(artist_id='ARHHO3O1187B989413', artist_name='Bob Azzam', artist_location='', artist_latitude=None, artist_longitude=None),\n",
       " Row(artist_id='ARJIE2Y1187B994AB7', artist_name='Line Renaud', artist_location='', artist_latitude=None, artist_longitude=None),\n",
       " Row(artist_id='ARGIWFO1187B9B55B7', artist_name='Five Bolt Main', artist_location='', artist_latitude=None, artist_longitude=None)]"
      ]
     },
     "execution_count": 13,
     "metadata": {},
     "output_type": "execute_result"
    }
   ],
   "source": [
    "artist_table.take(10)"
   ]
  },
  {
   "cell_type": "code",
   "execution_count": 14,
   "metadata": {
    "editable": true
   },
   "outputs": [],
   "source": [
    "artist_table.write.parquet(path = output_data + \"/artist/artists.parquet\", mode = \"overwrite\")"
   ]
  },
  {
   "cell_type": "markdown",
   "metadata": {
    "editable": true
   },
   "source": [
    "### Process Log"
   ]
  },
  {
   "cell_type": "code",
   "execution_count": 15,
   "metadata": {
    "editable": true
   },
   "outputs": [],
   "source": [
    "df2 = spark.read.json(log_data)"
   ]
  },
  {
   "cell_type": "code",
   "execution_count": 16,
   "metadata": {
    "editable": true
   },
   "outputs": [
    {
     "data": {
      "text/plain": [
       "[Row(_corrupt_record='PK\\x03\\x04\\x14\\x00\\x00\\x00\\x08\\x00�j�N��t�\\x04\\x00\\x00�\\x1b\\x00\\x00\\x16\\x00\\x00\\x002018-11-01-events.jsonՙ�n�8\\x10���)\\x08�l\\x0b؊(�^9��m\\x1c��\\x1bw\\x17\\x01���\\u0604)2��$n�w���t�mWr\\x02\\x15u\\x01\\x03�(', artist=None, auth=None, firstName=None, gender=None, itemInSession=None, lastName=None, length=None, level=None, location=None, method=None, page=None, registration=None, sessionId=None, song=None, status=None, ts=None, userAgent=None, userId=None),\n",
       " Row(_corrupt_record='5�7?5\\x1c}v�XQXgW�R�\\x1c(���uN�lƧ����s)LaO!��>\\x06i���\\x19WS<�u�x\",�{jȋBh��z-G�7�C��x��j����1�_s�\\x17/', artist=None, auth=None, firstName=None, gender=None, itemInSession=None, lastName=None, length=None, level=None, location=None, method=None, page=None, registration=None, sessionId=None, song=None, status=None, ts=None, userAgent=None, userId=None),\n",
       " Row(_corrupt_record='__�\\x19ص�3\\x04E\\x0e', artist=None, auth=None, firstName=None, gender=None, itemInSession=None, lastName=None, length=None, level=None, location=None, method=None, page=None, registration=None, sessionId=None, song=None, status=None, ts=None, userAgent=None, userId=None),\n",
       " Row(_corrupt_record='�L\\x14�n\\x0f`!AM�ǰ�\\x013m�n\\x07oϹ��)�|t0��+��\\x1et��U_��p<��h\\x18x)Mi\\x14�i�gŝ�=4g\\t�j5�w��`����=��\\x16kcJ�0a\\x1e\\x1a���ঃ\\x03��r.���$������ȋ>dBY]�_�Y.\\t6���| ���~\\x0c^��Օ�c>y#,ڰ�e\\x11y��x�?i\\x11)\\x16�\\x1c�l�_����@.v\\x18���4\\t]\\x1a02�K0����q��Y', artist=None, auth=None, firstName=None, gender=None, itemInSession=None, lastName=None, length=None, level=None, location=None, method=None, page=None, registration=None, sessionId=None, song=None, status=None, ts=None, userAgent=None, userId=None),\n",
       " Row(_corrupt_record='�a����O\\x03�\\x06�r=��@\\x1eց\\x1c�y�M�\\x04�gs͕�m�y\\x01�a��-� y�t�~:E\\x16\\x04q\\x1a|O��t#�\\x11�j1���ꛂ��H��Wd<\\x18G�a\\x17��Q�#�f�<B����ϻil�\\x1f���\\x07�˼��', artist=None, auth=None, firstName=None, gender=None, itemInSession=None, lastName=None, length=None, level=None, location=None, method=None, page=None, registration=None, sessionId=None, song=None, status=None, ts=None, userAgent=None, userId=None),\n",
       " Row(_corrupt_record='@<{�\\x00�)���\\x15�g�t��%9�G\\x01�[��\\x1b#mN��/P�������\\x12$\\U000f775e�7d >�\\x04�j\\x10� p=�Ĭ\\x01��', artist=None, auth=None, firstName=None, gender=None, itemInSession=None, lastName=None, length=None, level=None, location=None, method=None, page=None, registration=None, sessionId=None, song=None, status=None, ts=None, userAgent=None, userId=None),\n",
       " Row(_corrupt_record='�P�%aX�E\\x16n?�\\x11�\\x13 ##�\\x02\\x1a�\\x01�c�&۸¾-yNޖ\\x02g�\\x1c�L+�\\x01c�trm*(\\x07�֯��h�1�2\\x059��BC��\\x1a�,�����x�H\\x1f\\x18\\x01\\x16�\\x02*�F1�z�=u�3�\\x00�e�}�!�Q', artist=None, auth=None, firstName=None, gender=None, itemInSession=None, lastName=None, length=None, level=None, location=None, method=None, page=None, registration=None, sessionId=None, song=None, status=None, ts=None, userAgent=None, userId=None),\n",
       " Row(_corrupt_record='� �\\\\?��5y�g:\\x17j��.@U�I�\\x17n?�=Yr2Ȭ���t�Cz�FO�1���@ǵ�0uY\\x1aӭ\\x03��?�)�ڮ�\\x00\\x1d��\\x0f�H\\x18IF \\x17', artist=None, auth=None, firstName=None, gender=None, itemInSession=None, lastName=None, length=None, level=None, location=None, method=None, page=None, registration=None, sessionId=None, song=None, status=None, ts=None, userAgent=None, userId=None),\n",
       " Row(_corrupt_record='aM���\\x11�\\x19F~�u\\\\\\x07*�\\x04f T\\x05Ҙ\\x05[�tOB� \\x07Kdxơ�\\x07;\\\\�kQ\\x07�q��k�O\\x0f�J\\x037e�\\x17UQ\\x1dC1�\\x05�j��\\x18y\\x7f$�-�)�\\x15[d��>�������0�QD��{��B>+�+ҳ�O8\\t��R_��3�!�s�\\x07�y�\\x13#��\\x11��c��{�v��\\x12�C��5�a.��ͷ��\"�k]���Tjy�Bmc�\\x05ҕ`�YUB��(F�}/�h��l�Ѱ\\x16�\\x07��<\\x11��%�I��)\"}?)�-�*��Q��\\x0f\\x7fT6��J', artist=None, auth=None, firstName=None, gender=None, itemInSession=None, lastName=None, length=None, level=None, location=None, method=None, page=None, registration=None, sessionId=None, song=None, status=None, ts=None, userAgent=None, userId=None),\n",
       " Row(_corrupt_record='��c\\x11\\x1f��dPZ����', artist=None, auth=None, firstName=None, gender=None, itemInSession=None, lastName=None, length=None, level=None, location=None, method=None, page=None, registration=None, sessionId=None, song=None, status=None, ts=None, userAgent=None, userId=None)]"
      ]
     },
     "execution_count": 16,
     "metadata": {},
     "output_type": "execute_result"
    }
   ],
   "source": [
    "df2.take(10)"
   ]
  },
  {
   "cell_type": "code",
   "execution_count": 17,
   "metadata": {
    "editable": true
   },
   "outputs": [],
   "source": [
    "df2.createOrReplaceTempView(\"staging_events\")"
   ]
  },
  {
   "cell_type": "code",
   "execution_count": 18,
   "metadata": {
    "editable": true
   },
   "outputs": [],
   "source": [
    "# Filtering by NextSong\n",
    "filtered_songplays_query = spark.sql (\"SELECT *, cast(ts/1000 as Timestamp) AS timestamp FROM staging_events WHERE page = 'NextSong'\")"
   ]
  },
  {
   "cell_type": "code",
   "execution_count": 19,
   "metadata": {
    "editable": true
   },
   "outputs": [
    {
     "data": {
      "text/plain": [
       "[Row(_corrupt_record=None, artist='Harmonia', auth='Logged In', firstName='Ryan', gender='M', itemInSession=0, lastName='Smith', length=655.77751, level='free', location='San Jose-Sunnyvale-Santa Clara, CA', method='PUT', page='NextSong', registration=1541016707796.0, sessionId=583, song='Sehr kosmisch', status=200, ts=1542241826796, userAgent='\"Mozilla/5.0 (X11; Linux x86_64) AppleWebKit/537.36 (KHTML, like Gecko) Ubuntu Chromium/36.0.1985.125 Chrome/36.0.1985.125 Safari/537.36\"', userId='26', timestamp=datetime.datetime(2018, 11, 15, 0, 30, 26, 796000)),\n",
       " Row(_corrupt_record=None, artist='The Prodigy', auth='Logged In', firstName='Ryan', gender='M', itemInSession=1, lastName='Smith', length=260.07465, level='free', location='San Jose-Sunnyvale-Santa Clara, CA', method='PUT', page='NextSong', registration=1541016707796.0, sessionId=583, song='The Big Gundown', status=200, ts=1542242481796, userAgent='\"Mozilla/5.0 (X11; Linux x86_64) AppleWebKit/537.36 (KHTML, like Gecko) Ubuntu Chromium/36.0.1985.125 Chrome/36.0.1985.125 Safari/537.36\"', userId='26', timestamp=datetime.datetime(2018, 11, 15, 0, 41, 21, 796000)),\n",
       " Row(_corrupt_record=None, artist='Train', auth='Logged In', firstName='Ryan', gender='M', itemInSession=2, lastName='Smith', length=205.45261, level='free', location='San Jose-Sunnyvale-Santa Clara, CA', method='PUT', page='NextSong', registration=1541016707796.0, sessionId=583, song='Marry Me', status=200, ts=1542242741796, userAgent='\"Mozilla/5.0 (X11; Linux x86_64) AppleWebKit/537.36 (KHTML, like Gecko) Ubuntu Chromium/36.0.1985.125 Chrome/36.0.1985.125 Safari/537.36\"', userId='26', timestamp=datetime.datetime(2018, 11, 15, 0, 45, 41, 796000)),\n",
       " Row(_corrupt_record=None, artist='Sony Wonder', auth='Logged In', firstName='Samuel', gender='M', itemInSession=0, lastName='Gonzalez', length=218.06975, level='free', location='Houston-The Woodlands-Sugar Land, TX', method='PUT', page='NextSong', registration=1540492941796.0, sessionId=597, song='Blackbird', status=200, ts=1542253449796, userAgent='\"Mozilla/5.0 (Macintosh; Intel Mac OS X 10_9_4) AppleWebKit/537.77.4 (KHTML, like Gecko) Version/7.0.5 Safari/537.77.4\"', userId='61', timestamp=datetime.datetime(2018, 11, 15, 3, 44, 9, 796000)),\n",
       " Row(_corrupt_record=None, artist='Van Halen', auth='Logged In', firstName='Tegan', gender='F', itemInSession=2, lastName='Levine', length=289.38404, level='paid', location='Portland-South Portland, ME', method='PUT', page='NextSong', registration=1540794356796.0, sessionId=602, song='Best Of Both Worlds (Remastered Album Version)', status=200, ts=1542260935796, userAgent='\"Mozilla/5.0 (Macintosh; Intel Mac OS X 10_9_4) AppleWebKit/537.36 (KHTML, like Gecko) Chrome/36.0.1985.143 Safari/537.36\"', userId='80', timestamp=datetime.datetime(2018, 11, 15, 5, 48, 55, 796000)),\n",
       " Row(_corrupt_record=None, artist='Magic Sam', auth='Logged In', firstName='Tegan', gender='F', itemInSession=3, lastName='Levine', length=132.04853, level='paid', location='Portland-South Portland, ME', method='PUT', page='NextSong', registration=1540794356796.0, sessionId=602, song='Call Me If You Need Me', status=200, ts=1542261224796, userAgent='\"Mozilla/5.0 (Macintosh; Intel Mac OS X 10_9_4) AppleWebKit/537.36 (KHTML, like Gecko) Chrome/36.0.1985.143 Safari/537.36\"', userId='80', timestamp=datetime.datetime(2018, 11, 15, 5, 53, 44, 796000)),\n",
       " Row(_corrupt_record=None, artist='Edward Sharpe & The Magnetic Zeros', auth='Logged In', firstName='Tegan', gender='F', itemInSession=4, lastName='Levine', length=306.31138, level='paid', location='Portland-South Portland, ME', method='PUT', page='NextSong', registration=1540794356796.0, sessionId=602, song='Home', status=200, ts=1542261356796, userAgent='\"Mozilla/5.0 (Macintosh; Intel Mac OS X 10_9_4) AppleWebKit/537.36 (KHTML, like Gecko) Chrome/36.0.1985.143 Safari/537.36\"', userId='80', timestamp=datetime.datetime(2018, 11, 15, 5, 55, 56, 796000)),\n",
       " Row(_corrupt_record=None, artist='Usher featuring will.i.am', auth='Logged In', firstName='Tegan', gender='F', itemInSession=5, lastName='Levine', length=395.72853, level='paid', location='Portland-South Portland, ME', method='PUT', page='NextSong', registration=1540794356796.0, sessionId=602, song='OMG', status=200, ts=1542261662796, userAgent='\"Mozilla/5.0 (Macintosh; Intel Mac OS X 10_9_4) AppleWebKit/537.36 (KHTML, like Gecko) Chrome/36.0.1985.143 Safari/537.36\"', userId='80', timestamp=datetime.datetime(2018, 11, 15, 6, 1, 2, 796000)),\n",
       " Row(_corrupt_record=None, artist='Helen Reddy', auth='Logged In', firstName='Tegan', gender='F', itemInSession=7, lastName='Levine', length=176.50893, level='paid', location='Portland-South Portland, ME', method='PUT', page='NextSong', registration=1540794356796.0, sessionId=602, song='Candle On The Water', status=200, ts=1542262057796, userAgent='\"Mozilla/5.0 (Macintosh; Intel Mac OS X 10_9_4) AppleWebKit/537.36 (KHTML, like Gecko) Chrome/36.0.1985.143 Safari/537.36\"', userId='80', timestamp=datetime.datetime(2018, 11, 15, 6, 7, 37, 796000)),\n",
       " Row(_corrupt_record=None, artist='Taylor Swift', auth='Logged In', firstName='Tegan', gender='F', itemInSession=8, lastName='Levine', length=201.06404, level='paid', location='Portland-South Portland, ME', method='PUT', page='NextSong', registration=1540794356796.0, sessionId=602, song='Our Song', status=200, ts=1542262233796, userAgent='\"Mozilla/5.0 (Macintosh; Intel Mac OS X 10_9_4) AppleWebKit/537.36 (KHTML, like Gecko) Chrome/36.0.1985.143 Safari/537.36\"', userId='80', timestamp=datetime.datetime(2018, 11, 15, 6, 10, 33, 796000))]"
      ]
     },
     "execution_count": 19,
     "metadata": {},
     "output_type": "execute_result"
    }
   ],
   "source": [
    "filtered_songplays_query.take(10)"
   ]
  },
  {
   "cell_type": "code",
   "execution_count": 20,
   "metadata": {
    "editable": true
   },
   "outputs": [],
   "source": [
    "filtered_songplays_query.createOrReplaceTempView(\"staging_events\")"
   ]
  },
  {
   "cell_type": "markdown",
   "metadata": {
    "editable": true
   },
   "source": [
    "##### Users Table extraction and loading into parquet files"
   ]
  },
  {
   "cell_type": "code",
   "execution_count": 21,
   "metadata": {
    "editable": true
   },
   "outputs": [],
   "source": [
    "users_table = spark.sql (\"\"\"SELECT a.userId, a.level, a.firstName, a.lastName, a.gender FROM staging_events a INNER JOIN (SELECT userId, MAX(ts) AS TS FROM staging_events GROUP BY userId, page) b ON a.userId = b.userId AND a.ts = b.ts\"\"\")"
   ]
  },
  {
   "cell_type": "code",
   "execution_count": 22,
   "metadata": {
    "editable": true
   },
   "outputs": [
    {
     "data": {
      "text/plain": [
       "[Row(userId='65', level='paid', firstName='Amiya', lastName='Davidson', gender='F'),\n",
       " Row(userId='59', level='free', firstName='Lily', lastName='Cooper', gender='F'),\n",
       " Row(userId='99', level='free', firstName='Ann', lastName='Banks', gender='F'),\n",
       " Row(userId='34', level='free', firstName='Evelin', lastName='Ayala', gender='F'),\n",
       " Row(userId='62', level='free', firstName='Connar', lastName='Moreno', gender='M'),\n",
       " Row(userId='40', level='free', firstName='Tucker', lastName='Garrison', gender='M'),\n",
       " Row(userId='76', level='free', firstName='Jayden', lastName='Duffy', gender='F'),\n",
       " Row(userId='100', level='free', firstName='Adler', lastName='Barrera', gender='M'),\n",
       " Row(userId='19', level='free', firstName='Zachary', lastName='Thomas', gender='M'),\n",
       " Row(userId='69', level='free', firstName='Anabelle', lastName='Simpson', gender='F')]"
      ]
     },
     "execution_count": 22,
     "metadata": {},
     "output_type": "execute_result"
    }
   ],
   "source": [
    "users_table.take(10)"
   ]
  },
  {
   "cell_type": "code",
   "execution_count": 23,
   "metadata": {
    "editable": true
   },
   "outputs": [],
   "source": [
    "# Extracting unique users\n",
    "clean_users_table = users_table.dropDuplicates(['userId','level'])"
   ]
  },
  {
   "cell_type": "code",
   "execution_count": 24,
   "metadata": {
    "editable": true
   },
   "outputs": [
    {
     "data": {
      "text/plain": [
       "96"
      ]
     },
     "execution_count": 24,
     "metadata": {},
     "output_type": "execute_result"
    }
   ],
   "source": [
    "clean_users_table.count()"
   ]
  },
  {
   "cell_type": "code",
   "execution_count": 25,
   "metadata": {
    "editable": true
   },
   "outputs": [
    {
     "data": {
      "text/plain": [
       "[Row(userId='18', level='free', firstName='Jacob', lastName='Rogers', gender='M'),\n",
       " Row(userId='6', level='free', firstName='Cecilia', lastName='Owens', gender='F'),\n",
       " Row(userId='79', level='free', firstName='James', lastName='Martin', gender='M'),\n",
       " Row(userId='16', level='paid', firstName='Rylan', lastName='George', gender='M'),\n",
       " Row(userId='39', level='free', firstName='Walter', lastName='Frye', gender='M'),\n",
       " Row(userId='61', level='free', firstName='Samuel', lastName='Gonzalez', gender='M'),\n",
       " Row(userId='87', level='free', firstName='Dustin', lastName='Lee', gender='M'),\n",
       " Row(userId='22', level='free', firstName='Sean', lastName='Wilson', gender='F'),\n",
       " Row(userId='29', level='paid', firstName='Jacqueline', lastName='Lynch', gender='F'),\n",
       " Row(userId='5', level='free', firstName='Elijah', lastName='Davis', gender='M')]"
      ]
     },
     "execution_count": 25,
     "metadata": {},
     "output_type": "execute_result"
    }
   ],
   "source": [
    "clean_users_table.take(10)"
   ]
  },
  {
   "cell_type": "code",
   "execution_count": 26,
   "metadata": {
    "editable": true
   },
   "outputs": [],
   "source": [
    "clean_users_table.write.parquet(path = loutput_data + \"/users/users.parquet\", mode = \"overwrite\")"
   ]
  },
  {
   "cell_type": "markdown",
   "metadata": {
    "editable": true
   },
   "source": [
    "##### Write time table to parquet files partitioned by year and month"
   ]
  },
  {
   "cell_type": "code",
   "execution_count": 27,
   "metadata": {
    "editable": true
   },
   "outputs": [],
   "source": [
    "time_table = spark.sql(\"\"\"SELECT DISTINCT timestamp AS start_time, hour(timestamp) AS hour, day(timestamp) AS day, weekofyear(timestamp) AS week, month(timestamp) AS month, year (timestamp) AS year, weekday(timestamp) AS weekday FROM staging_events\"\"\")"
   ]
  },
  {
   "cell_type": "code",
   "execution_count": 28,
   "metadata": {
    "editable": true
   },
   "outputs": [],
   "source": [
    "time_table.write.partitionBy(\"year\", \"month\").parquet(path = loutput_data + \"/time/time.parquet\", mode = \"overwrite\")"
   ]
  },
  {
   "cell_type": "markdown",
   "metadata": {
    "editable": true
   },
   "source": [
    "##### Read in song data to use for songplays table"
   ]
  },
  {
   "cell_type": "code",
   "execution_count": 29,
   "metadata": {
    "editable": true
   },
   "outputs": [],
   "source": [
    "s_df = spark.read.parquet(soutput_data + \"/song/*\")\n",
    "s_df.createOrReplaceTempView(\"songs\")"
   ]
  },
  {
   "cell_type": "markdown",
   "metadata": {
    "editable": true
   },
   "source": [
    "##### Extract columns from joined song and log datasets to create songplays table "
   ]
  },
  {
   "cell_type": "code",
   "execution_count": 30,
   "metadata": {
    "editable": true
   },
   "outputs": [],
   "source": [
    "songplays_table = spark.sql(\"\"\"SELECT a.timestamp AS start_time, a.userId, a.level, b.song_id, b.artist_id, a.sessionId, a.location, a.userAgent, year(a.timestamp) AS year, month(a.timestamp) AS month FROM staging_events AS a INNER JOIN songs AS b ON a.song = b.song_title\"\"\")\n",
    "#songplays_table = spark.sql(\"SELECT * FROM songs\")"
   ]
  },
  {
   "cell_type": "code",
   "execution_count": 31,
   "metadata": {
    "editable": true
   },
   "outputs": [
    {
     "data": {
      "text/plain": [
       "[Row(start_time=datetime.datetime(2018, 11, 21, 21, 56, 47, 796000), userId='15', level='paid', song_id='SOZCTXZ12AB0182364', artist_id='AR5KOSW1187FB35FF4', sessionId=818, location='Chicago-Naperville-Elgin, IL-IN-WI', userAgent='\"Mozilla/5.0 (X11; Linux x86_64) AppleWebKit/537.36 (KHTML, like Gecko) Ubuntu Chromium/36.0.1985.125 Chrome/36.0.1985.125 Safari/537.36\"', year=2018, month=11),\n",
       " Row(start_time=datetime.datetime(2018, 11, 14, 5, 6, 3, 796000), userId='10', level='free', song_id='SOGDBUF12A8C140FAA', artist_id='AR558FS1187FB45658', sessionId=484, location='Washington-Arlington-Alexandria, DC-VA-MD-WV', userAgent='\"Mozilla/5.0 (Macintosh; Intel Mac OS X 10_9_4) AppleWebKit/537.77.4 (KHTML, like Gecko) Version/7.0.5 Safari/537.77.4\"', year=2018, month=11),\n",
       " Row(start_time=datetime.datetime(2018, 11, 19, 9, 14, 20, 796000), userId='24', level='paid', song_id='SOGDBUF12A8C140FAA', artist_id='AR558FS1187FB45658', sessionId=672, location='Lake Havasu City-Kingman, AZ', userAgent='\"Mozilla/5.0 (Windows NT 6.1; WOW64) AppleWebKit/537.36 (KHTML, like Gecko) Chrome/36.0.1985.125 Safari/537.36\"', year=2018, month=11),\n",
       " Row(start_time=datetime.datetime(2018, 11, 27, 22, 35, 59, 796000), userId='80', level='paid', song_id='SOGDBUF12A8C140FAA', artist_id='AR558FS1187FB45658', sessionId=992, location='Portland-South Portland, ME', userAgent='\"Mozilla/5.0 (Macintosh; Intel Mac OS X 10_9_4) AppleWebKit/537.36 (KHTML, like Gecko) Chrome/36.0.1985.143 Safari/537.36\"', year=2018, month=11)]"
      ]
     },
     "execution_count": 31,
     "metadata": {},
     "output_type": "execute_result"
    }
   ],
   "source": [
    "songplays_table.take(10)"
   ]
  },
  {
   "cell_type": "code",
   "execution_count": 32,
   "metadata": {
    "editable": true
   },
   "outputs": [],
   "source": [
    "songplays_table.write.partitionBy(\"year\", \"month\").parquet(path = output_data + \"/songplays/songplays.parquet\", mode = \"overwrite\")"
   ]
  },
  {
   "cell_type": "code",
   "execution_count": null,
   "metadata": {
    "editable": true
   },
   "outputs": [],
   "source": []
  }
 ],
 "metadata": {
  "kernelspec": {
   "display_name": "Python 3",
   "language": "python",
   "name": "python3"
  },
  "language_info": {
   "codemirror_mode": {
    "name": "ipython",
    "version": 3
   },
   "file_extension": ".py",
   "mimetype": "text/x-python",
   "name": "python",
   "nbconvert_exporter": "python",
   "pygments_lexer": "ipython3",
   "version": "3.6.3"
  }
 },
 "nbformat": 4,
 "nbformat_minor": 4
}
